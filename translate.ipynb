{
 "cells": [
  {
   "cell_type": "markdown",
   "id": "e7cc0921-9312-4b66-9b65-644b428b86b7",
   "metadata": {},
   "source": [
    "# Translate data"
   ]
  },
  {
   "cell_type": "code",
   "execution_count": 1,
   "id": "520e2a33-ea96-44bf-91b1-48fffe1770e7",
   "metadata": {},
   "outputs": [
    {
     "name": "stderr",
     "output_type": "stream",
     "text": [
      "[nltk_data] Downloading package punkt to /home/david/nltk_data...\n",
      "[nltk_data]   Package punkt is already up-to-date!\n",
      "[nltk_data] Downloading package punkt_tab to /home/david/nltk_data...\n",
      "[nltk_data]   Package punkt_tab is already up-to-date!\n"
     ]
    }
   ],
   "source": [
    "#Imports\n",
    "import pandas as pd\n",
    "from deep_translator import GoogleTranslator\n",
    "from tqdm import tqdm\n",
    "import nltk\n",
    "nltk.download('punkt')\n",
    "nltk.download('punkt_tab')  # Download sentence tokenizer data\n",
    "from nltk.tokenize import sent_tokenize\n",
    "\n"
   ]
  },
  {
   "cell_type": "code",
   "execution_count": 2,
   "id": "d73845a4-264d-4545-83a8-be36321ff142",
   "metadata": {},
   "outputs": [
    {
     "data": {
      "text/html": [
       "<div>\n",
       "<style scoped>\n",
       "    .dataframe tbody tr th:only-of-type {\n",
       "        vertical-align: middle;\n",
       "    }\n",
       "\n",
       "    .dataframe tbody tr th {\n",
       "        vertical-align: top;\n",
       "    }\n",
       "\n",
       "    .dataframe thead th {\n",
       "        text-align: right;\n",
       "    }\n",
       "</style>\n",
       "<table border=\"1\" class=\"dataframe\">\n",
       "  <thead>\n",
       "    <tr style=\"text-align: right;\">\n",
       "      <th></th>\n",
       "      <th>file_id</th>\n",
       "      <th>speaker_name</th>\n",
       "      <th>speaker_party</th>\n",
       "      <th>speech_text</th>\n",
       "      <th>jaar</th>\n",
       "      <th>date</th>\n",
       "      <th>kamer</th>\n",
       "      <th>category</th>\n",
       "      <th>title</th>\n",
       "      <th>document_number</th>\n",
       "      <th>url</th>\n",
       "      <th>meta_url</th>\n",
       "      <th>vergadernummer</th>\n",
       "    </tr>\n",
       "  </thead>\n",
       "  <tbody>\n",
       "    <tr>\n",
       "      <th>0</th>\n",
       "      <td>h-tk-20142015-31-10</td>\n",
       "      <td>De voorzitter</td>\n",
       "      <td>NaN</td>\n",
       "      <td>Zoals de leden weten, hebben zij twee minuten ...</td>\n",
       "      <td>2014-2015</td>\n",
       "      <td>2014-12-02</td>\n",
       "      <td>tk</td>\n",
       "      <td>handelingen</td>\n",
       "      <td>10 Integratieonderwerpen</td>\n",
       "      <td>NaN</td>\n",
       "      <td>https://zoek.officielebekendmakingen.nl/h-tk-2...</td>\n",
       "      <td>https://zoek.officielebekendmakingen.nl/h-tk-2...</td>\n",
       "      <td>nr. 31, item 10</td>\n",
       "    </tr>\n",
       "    <tr>\n",
       "      <th>1</th>\n",
       "      <td>h-tk-20142015-31-10</td>\n",
       "      <td>Mevrouw Karabulut</td>\n",
       "      <td>SP</td>\n",
       "      <td>Voorzitter. Integratie is weer helemaal hot. D...</td>\n",
       "      <td>2014-2015</td>\n",
       "      <td>2014-12-02</td>\n",
       "      <td>tk</td>\n",
       "      <td>handelingen</td>\n",
       "      <td>10 Integratieonderwerpen</td>\n",
       "      <td>NaN</td>\n",
       "      <td>https://zoek.officielebekendmakingen.nl/h-tk-2...</td>\n",
       "      <td>https://zoek.officielebekendmakingen.nl/h-tk-2...</td>\n",
       "      <td>nr. 31, item 10</td>\n",
       "    </tr>\n",
       "    <tr>\n",
       "      <th>2</th>\n",
       "      <td>h-tk-20142015-31-10</td>\n",
       "      <td>Mevrouw Karabulut</td>\n",
       "      <td>SP</td>\n",
       "      <td>Gegeven de actualiteit, de discussies en het d...</td>\n",
       "      <td>2014-2015</td>\n",
       "      <td>2014-12-02</td>\n",
       "      <td>tk</td>\n",
       "      <td>handelingen</td>\n",
       "      <td>10 Integratieonderwerpen</td>\n",
       "      <td>NaN</td>\n",
       "      <td>https://zoek.officielebekendmakingen.nl/h-tk-2...</td>\n",
       "      <td>https://zoek.officielebekendmakingen.nl/h-tk-2...</td>\n",
       "      <td>nr. 31, item 10</td>\n",
       "    </tr>\n",
       "    <tr>\n",
       "      <th>3</th>\n",
       "      <td>h-tk-20142015-31-10</td>\n",
       "      <td>De voorzitter</td>\n",
       "      <td>NaN</td>\n",
       "      <td>Bij een VAO is het handig om binnen de orde va...</td>\n",
       "      <td>2014-2015</td>\n",
       "      <td>2014-12-02</td>\n",
       "      <td>tk</td>\n",
       "      <td>handelingen</td>\n",
       "      <td>10 Integratieonderwerpen</td>\n",
       "      <td>NaN</td>\n",
       "      <td>https://zoek.officielebekendmakingen.nl/h-tk-2...</td>\n",
       "      <td>https://zoek.officielebekendmakingen.nl/h-tk-2...</td>\n",
       "      <td>nr. 31, item 10</td>\n",
       "    </tr>\n",
       "    <tr>\n",
       "      <th>4</th>\n",
       "      <td>h-tk-20142015-31-10</td>\n",
       "      <td>Mevrouw Karabulut</td>\n",
       "      <td>SP</td>\n",
       "      <td>Dit past heel erg binnen de orde van een debat...</td>\n",
       "      <td>2014-2015</td>\n",
       "      <td>2014-12-02</td>\n",
       "      <td>tk</td>\n",
       "      <td>handelingen</td>\n",
       "      <td>10 Integratieonderwerpen</td>\n",
       "      <td>NaN</td>\n",
       "      <td>https://zoek.officielebekendmakingen.nl/h-tk-2...</td>\n",
       "      <td>https://zoek.officielebekendmakingen.nl/h-tk-2...</td>\n",
       "      <td>nr. 31, item 10</td>\n",
       "    </tr>\n",
       "  </tbody>\n",
       "</table>\n",
       "</div>"
      ],
      "text/plain": [
       "               file_id       speaker_name speaker_party  \\\n",
       "0  h-tk-20142015-31-10      De voorzitter           NaN   \n",
       "1  h-tk-20142015-31-10  Mevrouw Karabulut            SP   \n",
       "2  h-tk-20142015-31-10  Mevrouw Karabulut            SP   \n",
       "3  h-tk-20142015-31-10      De voorzitter           NaN   \n",
       "4  h-tk-20142015-31-10  Mevrouw Karabulut            SP   \n",
       "\n",
       "                                         speech_text       jaar        date  \\\n",
       "0  Zoals de leden weten, hebben zij twee minuten ...  2014-2015  2014-12-02   \n",
       "1  Voorzitter. Integratie is weer helemaal hot. D...  2014-2015  2014-12-02   \n",
       "2  Gegeven de actualiteit, de discussies en het d...  2014-2015  2014-12-02   \n",
       "3  Bij een VAO is het handig om binnen de orde va...  2014-2015  2014-12-02   \n",
       "4  Dit past heel erg binnen de orde van een debat...  2014-2015  2014-12-02   \n",
       "\n",
       "  kamer     category                     title  document_number  \\\n",
       "0    tk  handelingen  10 Integratieonderwerpen              NaN   \n",
       "1    tk  handelingen  10 Integratieonderwerpen              NaN   \n",
       "2    tk  handelingen  10 Integratieonderwerpen              NaN   \n",
       "3    tk  handelingen  10 Integratieonderwerpen              NaN   \n",
       "4    tk  handelingen  10 Integratieonderwerpen              NaN   \n",
       "\n",
       "                                                 url  \\\n",
       "0  https://zoek.officielebekendmakingen.nl/h-tk-2...   \n",
       "1  https://zoek.officielebekendmakingen.nl/h-tk-2...   \n",
       "2  https://zoek.officielebekendmakingen.nl/h-tk-2...   \n",
       "3  https://zoek.officielebekendmakingen.nl/h-tk-2...   \n",
       "4  https://zoek.officielebekendmakingen.nl/h-tk-2...   \n",
       "\n",
       "                                            meta_url   vergadernummer  \n",
       "0  https://zoek.officielebekendmakingen.nl/h-tk-2...  nr. 31, item 10  \n",
       "1  https://zoek.officielebekendmakingen.nl/h-tk-2...  nr. 31, item 10  \n",
       "2  https://zoek.officielebekendmakingen.nl/h-tk-2...  nr. 31, item 10  \n",
       "3  https://zoek.officielebekendmakingen.nl/h-tk-2...  nr. 31, item 10  \n",
       "4  https://zoek.officielebekendmakingen.nl/h-tk-2...  nr. 31, item 10  "
      ]
     },
     "metadata": {},
     "output_type": "display_data"
    }
   ],
   "source": [
    "df = pd.read_csv(\"data/speeches2014-2024/speeches_2014-2015.csv\")\n",
    "display(df.head())"
   ]
  },
  {
   "cell_type": "code",
   "execution_count": 3,
   "id": "4fcd6c05-c573-4f2f-916f-414e1231af0f",
   "metadata": {},
   "outputs": [
    {
     "data": {
      "text/plain": [
       "'Zoals de leden weten, hebben zij twee minuten spreektijd. In die twee minuten moeten zij moties indienen en kunnen zij eventueel nog een opmerking maken. Als eerste is het woord aan mevrouw Karabulut van de SP.'"
      ]
     },
     "metadata": {},
     "output_type": "display_data"
    }
   ],
   "source": [
    "display(df[\"speech_text\"][0])\n",
    "txt = df[\"speech_text\"][0]"
   ]
  },
  {
   "cell_type": "code",
   "execution_count": 4,
   "id": "b05b4811-a0e1-4930-8470-3f8c6ff7aa98",
   "metadata": {},
   "outputs": [],
   "source": [
    "def translate(text):\n",
    "    return GoogleTranslator(source='auto', target='en').translate(text)\n"
   ]
  },
  {
   "cell_type": "code",
   "execution_count": 19,
   "id": "d6024695-5ab9-4bd7-9e0c-f94b256e2ba4",
   "metadata": {},
   "outputs": [
    {
     "data": {
      "text/plain": [
       "'As the members know, they have two minutes of speaking time. In those two minutes they must submit motions and they can possibly make a comment. First is the floor to Mrs. Karabulut of the SP.'"
      ]
     },
     "metadata": {},
     "output_type": "display_data"
    }
   ],
   "source": [
    "display(translate(txt))"
   ]
  },
  {
   "cell_type": "markdown",
   "id": "de50f545-5688-4d9f-9659-2cbb0af2fa15",
   "metadata": {},
   "source": [
    "## Split sentence\n",
    "The translation api have limitation for google translation the text chant exeede 5000 characters"
   ]
  },
  {
   "cell_type": "code",
   "execution_count": 5,
   "id": "0327ec1d-de12-4c5e-8e04-5f60731c24a3",
   "metadata": {},
   "outputs": [],
   "source": [
    "def split_sentences(text, max_chunk_size=4000):\n",
    "\n",
    "    if len(text) <= max_chunk_size:\n",
    "        return [text]\n",
    "\n",
    "    \n",
    "    # Split text into sentences\n",
    "    sentences = sent_tokenize(text)\n",
    "    \n",
    "    chunks = []\n",
    "    current_chunk = []\n",
    "    current_length = 0\n",
    "\n",
    "\n",
    "    \n",
    "    # Split into chunks while preserving sentence boundaries\n",
    "    for sentence in sentences:\n",
    "        sentence_length = len(sentence)\n",
    "        \n",
    "        if current_length + sentence_length > max_chunk_size:\n",
    "            chunks.append(' '.join(current_chunk))\n",
    "            current_chunk = [sentence]\n",
    "            current_length = sentence_length\n",
    "        else:\n",
    "            current_chunk.append(sentence)\n",
    "            current_length += sentence_length\n",
    "            \n",
    "    if current_chunk:\n",
    "        chunks.append(' '.join(current_chunk))\n",
    "    return chunks\n",
    "def split_translate(chunks):\n",
    "    # Translate chunks sequentially\n",
    "    translated_text = []\n",
    "    for chunk in chunks:\n",
    "        try:\n",
    "            translated = translate(chunk)\n",
    "            translated_text.append(translated)\n",
    "        except Exception as e:\n",
    "            print(f\"Error translating chunk: {e}\")\n",
    "            translated_text.append(\"\")  # Add empty string on failure\n",
    "            \n",
    "    return ' '.join(translated_text)\n",
    "\n",
    "def safe_translate(text, max_text_lenght=4000):\n",
    "    chunks = split_sentences(text, max_chunk_size=max_text_lenght)\n",
    "    return split_translate(chunks)"
   ]
  },
  {
   "cell_type": "code",
   "execution_count": 47,
   "id": "332cc8e3",
   "metadata": {},
   "outputs": [
    {
     "data": {
      "text/plain": [
       "5040"
      ]
     },
     "metadata": {},
     "output_type": "display_data"
    },
    {
     "data": {
      "text/plain": [
       "2"
      ]
     },
     "execution_count": 47,
     "metadata": {},
     "output_type": "execute_result"
    }
   ],
   "source": [
    "long_txt = \"\"\"Voorzitter. Wat het CDA betreft, bespreken wij vandaag drie onderwerpen: de stelselverantwoordelijkheid van deze minister voor de verschillende decentralisaties, de AIVD en de problematiek met de identiteitswissels in Oost-Europa. Over de decentralisaties heeft het CDA nog altijd heel grote zorgen. En laat me duidelijk zijn: die zorgen nemen eerder toe dan af. Wij horen de staatssecretaris van VWS iedere keer weer de bezweringsformule uitspreken dat het allemaal wel goed komt. Nog erger is het dat hij in de provincies en in de diverse gemeenten allerlei toezeggingen doet waar we geen verzilvering van zien. Dat is heel ernstig. Deze minister moet namelijk ook weten dat het piept en kraakt in Nederland bij die taakverschuiving naar de gemeenten. Ondanks de brief die wij hebben gekregen, zien wij de stelselverantwoordelijkheid van deze minister op dit moment geen goede vorm krijgen. Ik geef een paar voorbeelden. Kijk naar de jeugdzorg, waarover we hadden afgesproken dat daarvoor vóór 1 november contracten zouden zijn gesloten. Dat is dus niet gelukt. De deadline is verschoven. Dit is niet alleen maar een organisatorisch dingetje. Er zijn daadwerkelijk ouders — en die hebben zich ook tot mij gewend — die zeggen: mijn zorginstelling kan niet meer toezeggen dat ik die zorg straks krijg, want ze weet niet hoeveel geld ze krijgt en ze weet niet of ze nog zal worden gecontracteerd. In Eindhoven is er een Europese aanbesteding. Hoe bizar kan het worden? De gemeente zegt vervolgens dat ze het wel probeert goed te krijgen, maar uiteindelijk is er van alles aan de hand. Wij willen dat de minister acteert om deze zorgen weg te nemen. Er is die vergeten groep. Het gaat om meer dan 300 miljoen euro. De staatssecretaris van VWS zegt dat we dat wel in de middelen zullen oplossen, maar wij zien daar nog geen plannen voor. Die willen wij krijgen van deze minister. De staatssecretaris van VWS is naar Zeeland gegaan. Hij heeft daar gezegd dat hij ook wel ziet dat het volume waarmee wordt gerekend, eigenlijk te weinig behelst, dat er dus wat bij moet en dat dit zal worden goedgemaakt. Maar als mijn collega Mona Keijzer daar in een motie om vraagt — het gaat immers direct om het Gemeentefonds — dan is zoiets ineens een motie die eng is, en wordt deze door de staatssecretaris ontraden. Wij willen dat deze minister, die verantwoordelijk is voor het totale stelsel, acteert. Het gaat namelijk niet goed. Een ander punt, naast die decentralisaties, zijn de \"congruente samenwerkingsverbanden\", zoals de minister ze altijd terecht noemt. Wij hebben al eerder gezegd dat wij de andere samenwerkingsverbanden zien. De veiligheidsregio's zijn anders dan de arbeidsmarktregio's, en ze zijn weer anders dan de regio's voor passend onderwijs. Het kan soms nog, maar nu wordt in de jeugd-GGZ een nieuw samenwerkingsverband opgelegd, die niet past bij de samenwerking die is opgelegd ten aanzien van passend onderwijs. Wij spreken de minister aan op de congruentie in die samenwerkingsverbanden. Wat gaat hij daarmee doen? Wij zien dat de gemeenten op dit moment echt gebukt gaan onder het organiseren van die taken. Wij zien dat ze eigenlijk geen ruimte meer hebben om te kijken naar de andere taken die ze hebben, bijvoorbeeld op het gebied van de ruimtelijke ordening en de agenda daarvoor. We lezen dat de infrastructuur in de gemeenten een beetje in elkaar zakt en dat het onderhoud van wegen op allerlei plekken echt tekortschiet. Niemand heeft daar nog een focus op, niemand heeft daar meer geld voor. Wij vinden dat een zorgpunt en willen dat de minister daar, met de VNG, aandacht aan besteedt. Wij hebben ook een zorgpunt over de samenwerking binnen de steden; het speerpunt. De heer Van Oosten heeft daar al vragen over gesteld, en daar sluit ik mij bij aan. Hetzelfde geldt voor de BAG. Wij hebben in het algemeen overleg van de minister de toezegging gekregen dat er voor de kazernegemeenten een oplossing zou komen. Deze dreigt echter niet in de decembercirculaire te worden vormgegeven. Dat willen wij wél. Nu de grensgemeenten in Nederland. Ook al is het een kikkerlandje, Nederland heeft heel veel grensgemeenten. Met name daar zien we op dit moment grote problemen. In die grensgemeenten liggen eigenlijk kansen, die niet worden benut. Sterker nog: daar komen heel grote knelpunten. Er gaan steeds meer taken naar de gemeenten, ook met betrekking tot het arbeidsmarktbeleid en in de zorg. De grensgemeenten kunnen eigenlijk geen kant op. Ze kunnen dingen eigenlijk maar naar één kant organiseren, terwijl dit zou moeten kunnen in een kring eromheen. Wij willen dat de minister van Binnenlandse Zaken ook op dit dossier gaat acteren. Dan kom ik bij het Gemeentefonds. De minister heeft op enig moment gezegd dat wij eigenlijk met een schone lei moeten beginnen: dit is het geld waar gemeenten het straks mee moeten doen en vervolgens zal het allemaal wel goed komen. En als de gemeenten echt met de rug tegen de muur zouden komen te staan, zou de gemeentelijke belasting niet erg omhoog mogen gaan om dat op te lossen.\"\"\"\n",
    "display(len(long_txt))\n",
    "chunks = split_sentences(long_txt, 4000)\n",
    "len(chunks)"
   ]
  },
  {
   "cell_type": "code",
   "execution_count": 28,
   "id": "c5a2317d-a00b-4bf7-898c-9659404701bb",
   "metadata": {},
   "outputs": [
    {
     "data": {
      "text/plain": [
       "{'translator': 'google translate',\n",
       " 'original test': 'Zoals de leden weten, hebben zij twee minuten spreektijd. In die twee minuten moeten zij moties indienen en kunnen zij eventueel nog een opmerking maken. Als eerste is het woord aan mevrouw Karabulut van de SP.',\n",
       " 'normal_translation': 'As the members know, they have two minutes of speaking time. In those two minutes they must submit motions and they can possibly make a comment. First is the floor to Mrs. Karabulut of the SP.',\n",
       " 'safe_translate': ' As the members know, they have two minutes of speaking time. In those two minutes they must submit motions and they can possibly make a comment. First is the floor to Mrs. Karabulut of the SP.'}"
      ]
     },
     "metadata": {},
     "output_type": "display_data"
    }
   ],
   "source": [
    "msg = {\n",
    "    \"translator\": \"google translate\",\n",
    "    \"original test\": txt,\n",
    "    \"normal_translation\": translate(txt),\n",
    "    \"safe_translate\": safe_translate(txt, 50)\n",
    "}\n",
    "display(msg)\n"
   ]
  },
  {
   "cell_type": "markdown",
   "id": "9f9661cd",
   "metadata": {},
   "source": [
    "## Apply to the dataset\n",
    "This is going to take a while"
   ]
  },
  {
   "cell_type": "code",
   "execution_count": null,
   "id": "7a7bf37a-2ecb-4a01-9b51-891c846e6c69",
   "metadata": {},
   "outputs": [
    {
     "name": "stderr",
     "output_type": "stream",
     "text": [
      "  0%|                                                                                                                                       | 0/71175 [00:00<?, ?it/s]"
     ]
    },
    {
     "name": "stderr",
     "output_type": "stream",
     "text": [
      "  0%|▏                                                                                                                          | 78/71175 [01:15<15:02:39,  1.31it/s]"
     ]
    }
   ],
   "source": [
    "tqdm.pandas()\n",
    "df['speech_text_google_translate'] = df['speech_text'].progress_apply(safe_translate)"
   ]
  },
  {
   "cell_type": "code",
   "execution_count": 52,
   "id": "6703205a-85c7-4605-9063-7f7e511e6f9f",
   "metadata": {},
   "outputs": [
    {
     "data": {
      "text/plain": [
       "'U verwijs naar een debat dat vorige week is afgesloten met het indienen van moties.'"
      ]
     },
     "execution_count": 52,
     "metadata": {},
     "output_type": "execute_result"
    }
   ],
   "source": [
    "#display(df.head())\n",
    "df['speech_text'][5]"
   ]
  },
  {
   "cell_type": "code",
   "execution_count": null,
   "id": "8e21d97b-57c6-4c7e-ab56-2a6497f3ab14",
   "metadata": {},
   "outputs": [],
   "source": []
  }
 ],
 "metadata": {
  "kernelspec": {
   "display_name": "Python 3 (ipykernel)",
   "language": "python",
   "name": "python3"
  },
  "language_info": {
   "codemirror_mode": {
    "name": "ipython",
    "version": 3
   },
   "file_extension": ".py",
   "mimetype": "text/x-python",
   "name": "python",
   "nbconvert_exporter": "python",
   "pygments_lexer": "ipython3",
   "version": "3.12.8"
  }
 },
 "nbformat": 4,
 "nbformat_minor": 5
}
