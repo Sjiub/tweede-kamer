{
 "cells": [
  {
   "cell_type": "markdown",
   "id": "e7cc0921-9312-4b66-9b65-644b428b86b7",
   "metadata": {},
   "source": [
    "# Translate data"
   ]
  },
  {
   "cell_type": "code",
   "execution_count": 1,
   "id": "520e2a33-ea96-44bf-91b1-48fffe1770e7",
   "metadata": {},
   "outputs": [
    {
     "name": "stderr",
     "output_type": "stream",
     "text": [
      "[nltk_data] Downloading package punkt to /home/david/nltk_data...\n",
      "[nltk_data]   Unzipping tokenizers/punkt.zip.\n"
     ]
    }
   ],
   "source": [
    "#Imports\n",
    "import pandas as pd\n",
    "from deep_translator import GoogleTranslator\n",
    "from tqdm import tqdm\n",
    "import nltk\n",
    "nltk.download('punkt')  # Download sentence tokenizer data\n",
    "from nltk.tokenize import sent_tokenize\n",
    "\n"
   ]
  },
  {
   "cell_type": "code",
   "execution_count": 2,
   "id": "d73845a4-264d-4545-83a8-be36321ff142",
   "metadata": {},
   "outputs": [
    {
     "data": {
      "text/html": [
       "<div>\n",
       "<style scoped>\n",
       "    .dataframe tbody tr th:only-of-type {\n",
       "        vertical-align: middle;\n",
       "    }\n",
       "\n",
       "    .dataframe tbody tr th {\n",
       "        vertical-align: top;\n",
       "    }\n",
       "\n",
       "    .dataframe thead th {\n",
       "        text-align: right;\n",
       "    }\n",
       "</style>\n",
       "<table border=\"1\" class=\"dataframe\">\n",
       "  <thead>\n",
       "    <tr style=\"text-align: right;\">\n",
       "      <th></th>\n",
       "      <th>file_id</th>\n",
       "      <th>speaker_name</th>\n",
       "      <th>speaker_party</th>\n",
       "      <th>speech_text</th>\n",
       "      <th>jaar</th>\n",
       "      <th>date</th>\n",
       "      <th>kamer</th>\n",
       "      <th>category</th>\n",
       "      <th>title</th>\n",
       "      <th>document_number</th>\n",
       "      <th>url</th>\n",
       "      <th>meta_url</th>\n",
       "      <th>vergadernummer</th>\n",
       "    </tr>\n",
       "  </thead>\n",
       "  <tbody>\n",
       "    <tr>\n",
       "      <th>0</th>\n",
       "      <td>h-tk-20142015-31-10</td>\n",
       "      <td>De voorzitter</td>\n",
       "      <td>NaN</td>\n",
       "      <td>Zoals de leden weten, hebben zij twee minuten ...</td>\n",
       "      <td>2014-2015</td>\n",
       "      <td>2014-12-02</td>\n",
       "      <td>tk</td>\n",
       "      <td>handelingen</td>\n",
       "      <td>10 Integratieonderwerpen</td>\n",
       "      <td>NaN</td>\n",
       "      <td>https://zoek.officielebekendmakingen.nl/h-tk-2...</td>\n",
       "      <td>https://zoek.officielebekendmakingen.nl/h-tk-2...</td>\n",
       "      <td>nr. 31, item 10</td>\n",
       "    </tr>\n",
       "    <tr>\n",
       "      <th>1</th>\n",
       "      <td>h-tk-20142015-31-10</td>\n",
       "      <td>Mevrouw Karabulut</td>\n",
       "      <td>SP</td>\n",
       "      <td>Voorzitter. Integratie is weer helemaal hot. D...</td>\n",
       "      <td>2014-2015</td>\n",
       "      <td>2014-12-02</td>\n",
       "      <td>tk</td>\n",
       "      <td>handelingen</td>\n",
       "      <td>10 Integratieonderwerpen</td>\n",
       "      <td>NaN</td>\n",
       "      <td>https://zoek.officielebekendmakingen.nl/h-tk-2...</td>\n",
       "      <td>https://zoek.officielebekendmakingen.nl/h-tk-2...</td>\n",
       "      <td>nr. 31, item 10</td>\n",
       "    </tr>\n",
       "    <tr>\n",
       "      <th>2</th>\n",
       "      <td>h-tk-20142015-31-10</td>\n",
       "      <td>Mevrouw Karabulut</td>\n",
       "      <td>SP</td>\n",
       "      <td>Gegeven de actualiteit, de discussies en het d...</td>\n",
       "      <td>2014-2015</td>\n",
       "      <td>2014-12-02</td>\n",
       "      <td>tk</td>\n",
       "      <td>handelingen</td>\n",
       "      <td>10 Integratieonderwerpen</td>\n",
       "      <td>NaN</td>\n",
       "      <td>https://zoek.officielebekendmakingen.nl/h-tk-2...</td>\n",
       "      <td>https://zoek.officielebekendmakingen.nl/h-tk-2...</td>\n",
       "      <td>nr. 31, item 10</td>\n",
       "    </tr>\n",
       "    <tr>\n",
       "      <th>3</th>\n",
       "      <td>h-tk-20142015-31-10</td>\n",
       "      <td>De voorzitter</td>\n",
       "      <td>NaN</td>\n",
       "      <td>Bij een VAO is het handig om binnen de orde va...</td>\n",
       "      <td>2014-2015</td>\n",
       "      <td>2014-12-02</td>\n",
       "      <td>tk</td>\n",
       "      <td>handelingen</td>\n",
       "      <td>10 Integratieonderwerpen</td>\n",
       "      <td>NaN</td>\n",
       "      <td>https://zoek.officielebekendmakingen.nl/h-tk-2...</td>\n",
       "      <td>https://zoek.officielebekendmakingen.nl/h-tk-2...</td>\n",
       "      <td>nr. 31, item 10</td>\n",
       "    </tr>\n",
       "    <tr>\n",
       "      <th>4</th>\n",
       "      <td>h-tk-20142015-31-10</td>\n",
       "      <td>Mevrouw Karabulut</td>\n",
       "      <td>SP</td>\n",
       "      <td>Dit past heel erg binnen de orde van een debat...</td>\n",
       "      <td>2014-2015</td>\n",
       "      <td>2014-12-02</td>\n",
       "      <td>tk</td>\n",
       "      <td>handelingen</td>\n",
       "      <td>10 Integratieonderwerpen</td>\n",
       "      <td>NaN</td>\n",
       "      <td>https://zoek.officielebekendmakingen.nl/h-tk-2...</td>\n",
       "      <td>https://zoek.officielebekendmakingen.nl/h-tk-2...</td>\n",
       "      <td>nr. 31, item 10</td>\n",
       "    </tr>\n",
       "  </tbody>\n",
       "</table>\n",
       "</div>"
      ],
      "text/plain": [
       "               file_id       speaker_name speaker_party  \\\n",
       "0  h-tk-20142015-31-10      De voorzitter           NaN   \n",
       "1  h-tk-20142015-31-10  Mevrouw Karabulut            SP   \n",
       "2  h-tk-20142015-31-10  Mevrouw Karabulut            SP   \n",
       "3  h-tk-20142015-31-10      De voorzitter           NaN   \n",
       "4  h-tk-20142015-31-10  Mevrouw Karabulut            SP   \n",
       "\n",
       "                                         speech_text       jaar        date  \\\n",
       "0  Zoals de leden weten, hebben zij twee minuten ...  2014-2015  2014-12-02   \n",
       "1  Voorzitter. Integratie is weer helemaal hot. D...  2014-2015  2014-12-02   \n",
       "2  Gegeven de actualiteit, de discussies en het d...  2014-2015  2014-12-02   \n",
       "3  Bij een VAO is het handig om binnen de orde va...  2014-2015  2014-12-02   \n",
       "4  Dit past heel erg binnen de orde van een debat...  2014-2015  2014-12-02   \n",
       "\n",
       "  kamer     category                     title  document_number  \\\n",
       "0    tk  handelingen  10 Integratieonderwerpen              NaN   \n",
       "1    tk  handelingen  10 Integratieonderwerpen              NaN   \n",
       "2    tk  handelingen  10 Integratieonderwerpen              NaN   \n",
       "3    tk  handelingen  10 Integratieonderwerpen              NaN   \n",
       "4    tk  handelingen  10 Integratieonderwerpen              NaN   \n",
       "\n",
       "                                                 url  \\\n",
       "0  https://zoek.officielebekendmakingen.nl/h-tk-2...   \n",
       "1  https://zoek.officielebekendmakingen.nl/h-tk-2...   \n",
       "2  https://zoek.officielebekendmakingen.nl/h-tk-2...   \n",
       "3  https://zoek.officielebekendmakingen.nl/h-tk-2...   \n",
       "4  https://zoek.officielebekendmakingen.nl/h-tk-2...   \n",
       "\n",
       "                                            meta_url   vergadernummer  \n",
       "0  https://zoek.officielebekendmakingen.nl/h-tk-2...  nr. 31, item 10  \n",
       "1  https://zoek.officielebekendmakingen.nl/h-tk-2...  nr. 31, item 10  \n",
       "2  https://zoek.officielebekendmakingen.nl/h-tk-2...  nr. 31, item 10  \n",
       "3  https://zoek.officielebekendmakingen.nl/h-tk-2...  nr. 31, item 10  \n",
       "4  https://zoek.officielebekendmakingen.nl/h-tk-2...  nr. 31, item 10  "
      ]
     },
     "metadata": {},
     "output_type": "display_data"
    }
   ],
   "source": [
    "df = pd.read_csv(\"data/speeches2014-2024/speeches_2014-2015.csv\")\n",
    "display(df.head())"
   ]
  },
  {
   "cell_type": "code",
   "execution_count": 3,
   "id": "4fcd6c05-c573-4f2f-916f-414e1231af0f",
   "metadata": {},
   "outputs": [
    {
     "data": {
      "text/plain": [
       "'Zoals de leden weten, hebben zij twee minuten spreektijd. In die twee minuten moeten zij moties indienen en kunnen zij eventueel nog een opmerking maken. Als eerste is het woord aan mevrouw Karabulut van de SP.'"
      ]
     },
     "metadata": {},
     "output_type": "display_data"
    }
   ],
   "source": [
    "display(df[\"speech_text\"][0])\n",
    "txt = df[\"speech_text\"][0]"
   ]
  },
  {
   "cell_type": "code",
   "execution_count": 4,
   "id": "b05b4811-a0e1-4930-8470-3f8c6ff7aa98",
   "metadata": {},
   "outputs": [],
   "source": [
    "def translate(text):\n",
    "    return GoogleTranslator(source='auto', target='en').translate(text)\n"
   ]
  },
  {
   "cell_type": "code",
   "execution_count": 5,
   "id": "d6024695-5ab9-4bd7-9e0c-f94b256e2ba4",
   "metadata": {},
   "outputs": [
    {
     "data": {
      "text/plain": [
       "'As the members know, they have two minutes of speaking time. In those two minutes they must submit motions and they can possibly make a comment. First is the floor to Mrs. Karabulut of the SP.'"
      ]
     },
     "metadata": {},
     "output_type": "display_data"
    }
   ],
   "source": [
    "display(translate(txt))"
   ]
  },
  {
   "cell_type": "markdown",
   "id": "de50f545-5688-4d9f-9659-2cbb0af2fa15",
   "metadata": {},
   "source": [
    "## Split sentence\n",
    "The translation api have limitation for google translation the text chant exeede 5000 characters"
   ]
  },
  {
   "cell_type": "code",
   "execution_count": 6,
   "id": "0327ec1d-de12-4c5e-8e04-5f60731c24a3",
   "metadata": {},
   "outputs": [],
   "source": [
    "def split_sentences(text, max_chunk_size=5000):\n",
    "    \n",
    "    # Split text into sentences\n",
    "    sentences = sent_tokenize(text)\n",
    "    \n",
    "    chunks = []\n",
    "    current_chunk = []\n",
    "    current_length = 0\n",
    "    \n",
    "    # Split into chunks while preserving sentence boundaries\n",
    "    for sentence in sentences:\n",
    "        sentence_length = len(sentence)\n",
    "        if current_length + sentence_length > max_chunk_size:\n",
    "            chunks.append(' '.join(current_chunk))\n",
    "            current_chunk = [sentence]\n",
    "            current_length = sentence_length\n",
    "        else:\n",
    "            current_chunk.append(sentence)\n",
    "            current_length += sentence_length\n",
    "            \n",
    "    if current_chunk:\n",
    "        chunks.append(' '.join(current_chunk))\n",
    "    return chunks\n",
    "def split_translate(chunks):\n",
    "    # Translate chunks sequentially\n",
    "    translated_text = []\n",
    "    for chunk in chunks:\n",
    "        try:\n",
    "            translated = translate(chunk)\n",
    "            translated_text.append(translated)\n",
    "        except Exception as e:\n",
    "            print(f\"Error translating chunk: {e}\")\n",
    "            translated_text.append(\"\")  # Add empty string on failure\n",
    "            \n",
    "    return ' '.join(translated_text)"
   ]
  },
  {
   "cell_type": "code",
   "execution_count": 7,
   "id": "c5a2317d-a00b-4bf7-898c-9659404701bb",
   "metadata": {},
   "outputs": [
    {
     "ename": "NameError",
     "evalue": "name 'split_sentence' is not defined",
     "output_type": "error",
     "traceback": [
      "\u001b[0;31m---------------------------------------------------------------------------\u001b[0m",
      "\u001b[0;31mNameError\u001b[0m                                 Traceback (most recent call last)",
      "Cell \u001b[0;32mIn[7], line 1\u001b[0m\n\u001b[0;32m----> 1\u001b[0m display(\u001b[43msplit_sentence\u001b[49m(txt, \u001b[38;5;241m50\u001b[39m))\n",
      "\u001b[0;31mNameError\u001b[0m: name 'split_sentence' is not defined"
     ]
    }
   ],
   "source": [
    "display(split_sentences(txt, 50))"
   ]
  },
  {
   "cell_type": "code",
   "execution_count": 7,
   "id": "7a7bf37a-2ecb-4a01-9b51-891c846e6c69",
   "metadata": {},
   "outputs": [
    {
     "name": "stderr",
     "output_type": "stream",
     "text": [
      "  0%|          | 273/71175 [03:01<13:04:46,  1.51it/s]\n"
     ]
    },
    {
     "ename": "NotValidLength",
     "evalue": "Voorzitter. Wat het CDA betreft, bespreken wij vandaag drie onderwerpen: de stelselverantwoordelijkheid van deze minister voor de verschillende decentralisaties, de AIVD en de problematiek met de identiteitswissels in Oost-Europa.\nOver de decentralisaties heeft het CDA nog altijd heel grote zorgen. En laat me duidelijk zijn: die zorgen nemen eerder toe dan af. Wij horen de staatssecretaris van VWS iedere keer weer de bezweringsformule uitspreken dat het allemaal wel goed komt. Nog erger is het dat hij in de provincies en in de diverse gemeenten allerlei toezeggingen doet waar we geen verzilvering van zien. Dat is heel ernstig. Deze minister moet namelijk ook weten dat het piept en kraakt in Nederland bij die taakverschuiving naar de gemeenten. Ondanks de brief die wij hebben gekregen, zien wij de stelselverantwoordelijkheid van deze minister op dit moment geen goede vorm krijgen. Ik geef een paar voorbeelden. Kijk naar de jeugdzorg, waarover we hadden afgesproken dat daarvoor vóór 1 november contracten zouden zijn gesloten. Dat is dus niet gelukt. De deadline is verschoven. Dit is niet alleen maar een organisatorisch dingetje. Er zijn daadwerkelijk ouders — en die hebben zich ook tot mij gewend — die zeggen: mijn zorginstelling kan niet meer toezeggen dat ik die zorg straks krijg, want ze weet niet hoeveel geld ze krijgt en ze weet niet of ze nog zal worden gecontracteerd. In Eindhoven is er een Europese aanbesteding. Hoe bizar kan het worden? De gemeente zegt vervolgens dat ze het wel probeert goed te krijgen, maar uiteindelijk is er van alles aan de hand. Wij willen dat de minister acteert om deze zorgen weg te nemen.\nEr is die vergeten groep. Het gaat om meer dan 300 miljoen euro. De staatssecretaris van VWS zegt dat we dat wel in de middelen zullen oplossen, maar wij zien daar nog geen plannen voor. Die willen wij krijgen van deze minister. De staatssecretaris van VWS is naar Zeeland gegaan. Hij heeft daar gezegd dat hij ook wel ziet dat het volume waarmee wordt gerekend, eigenlijk te weinig behelst, dat er dus wat bij moet en dat dit zal worden goedgemaakt. Maar als mijn collega Mona Keijzer daar in een motie om vraagt — het gaat immers direct om het Gemeentefonds — dan is zoiets ineens een motie die eng is, en wordt deze door de staatssecretaris ontraden. Wij willen dat deze minister, die verantwoordelijk is voor het totale stelsel, acteert. Het gaat namelijk niet goed.\nEen ander punt, naast die decentralisaties, zijn de \"congruente samenwerkingsverbanden\", zoals de minister ze altijd terecht noemt. Wij hebben al eerder gezegd dat wij de andere samenwerkingsverbanden zien. De veiligheidsregio's zijn anders dan de arbeidsmarktregio's, en ze zijn weer anders dan de regio's voor passend onderwijs. Het kan soms nog, maar nu wordt in de jeugd-GGZ een nieuw samenwerkingsverband opgelegd, die niet past bij de samenwerking die is opgelegd ten aanzien van passend onderwijs. Wij spreken de minister aan op de congruentie in die samenwerkingsverbanden. Wat gaat hij daarmee doen?\nWij zien dat de gemeenten op dit moment echt gebukt gaan onder het organiseren van die taken. Wij zien dat ze eigenlijk geen ruimte meer hebben om te kijken naar de andere taken die ze hebben, bijvoorbeeld op het gebied van de ruimtelijke ordening en de agenda daarvoor. We lezen dat de infrastructuur in de gemeenten een beetje in elkaar zakt en dat het onderhoud van wegen op allerlei plekken echt tekortschiet. Niemand heeft daar nog een focus op, niemand heeft daar meer geld voor. Wij vinden dat een zorgpunt en willen dat de minister daar, met de VNG, aandacht aan besteedt.\nWij hebben ook een zorgpunt over de samenwerking binnen de steden; het speerpunt. De heer Van Oosten heeft daar al vragen over gesteld, en daar sluit ik mij bij aan. Hetzelfde geldt voor de BAG. Wij hebben in het algemeen overleg van de minister de toezegging gekregen dat er voor de kazernegemeenten een oplossing zou komen. Deze dreigt echter niet in de decembercirculaire te worden vormgegeven. Dat willen wij wél.\nNu de grensgemeenten in Nederland. Ook al is het een kikkerlandje, Nederland heeft heel veel grensgemeenten. Met name daar zien we op dit moment grote problemen. In die grensgemeenten liggen eigenlijk kansen, die niet worden benut. Sterker nog: daar komen heel grote knelpunten. Er gaan steeds meer taken naar de gemeenten, ook met betrekking tot het arbeidsmarktbeleid en in de zorg. De grensgemeenten kunnen eigenlijk geen kant op. Ze kunnen dingen eigenlijk maar naar één kant organiseren, terwijl dit zou moeten kunnen in een kring eromheen. Wij willen dat de minister van Binnenlandse Zaken ook op dit dossier gaat acteren. Dan kom ik bij het Gemeentefonds. De minister heeft op enig moment gezegd dat wij eigenlijk met een schone lei moeten beginnen: dit is het geld waar gemeenten het straks mee moeten doen en vervolgens zal het allemaal wel goed komen. En als de gemeenten echt met de rug tegen de muur zouden komen te staan, zou de gemeentelijke belasting niet erg omhoog mogen gaan om dat op te lossen. Tegelijkertijd horen wij dat de overschrijdingen van de normen in 2013 en 2014 gewoon worden vergeven en vergeten. Wij horen ook dat gemeenten op dit moment daadwerkelijk kijken hoe zij de gemeentelijke belastingen kunnen opvoeren, omdat ze de taken voor hun burgers met het geld dat zij daarvoor krijgen, niet kunnen uitvoeren. Wij willen dat het kabinet daarop acteert. Het kan niet zo zijn dat wij in Den Haag roepen te moeten bezuinigen en lokale belastingen omhooggaan waardoor de burgers nog steeds moeten blijven betalen. Wij horen ook gemeenten die zeggen: dan worden wij maar een artikel 12-gemeente; het is niet anders. Dat kan toch ook niet waar zijn? Wat gaat de minister daaraan doen?\nIk kom bij het volgende onderwerp, de AIVD. Eind juni liet de minister een persbericht uitgaan waarin hij aangaf 25 miljoen extra te zullen uittrekken voor de AIVD, alsook het budget structureel te zullen verhogen. Gelukkig prikte de media daar direct doorheen, want de minister doet niets anders dan het verzachten van de bezuinigingen. Hij draait daarmee een stukje van de bezuinigingen terug, maar niet de versobering. Wij hebben inmiddels begrepen dat van de politie capaciteit wordt geleend om AIVD-taken te doen. Het kan niet zo zijn dat dit gebeurt? De politie kan nu al bijna niet aan haar taken toekomen, zoals in Brabant met de xtc-laboratoria. Het water staat de politie tot aan de lippen en vervolgens moeten er nog mensen worden uitgeleend aan de AIVD omdat deze dienst niet voldoende capaciteit heeft. In deze tijd willen wij een AIVD op oorlogssterkte, maar de minister biedt die niet. Wij hebben daarover bij de tegenbegroting al plannen ontvouwd. Bij de begroting van Veiligheid en Justitie hebben wij een vrij omvangrijk amendement ingediend om er serieus voor te zorgen dat de AIVD meer geld krijgt. Wij hebben deze minister hier eerder op aangesproken en hem gevraagd of de AIVD nu echt genoeg geld krijgt. Toen zei de minister nog ja, maar inmiddels weten wij dat dit niet zo is, aangezien de AIVD mensen leent bij andere organisaties die ook niet veel ruimte meer hebben.\nTot slot kom ik bij de ID-problematiek. Blijkbaar bieden Oost-Europese landen hun burgers heel gemakkelijk de mogelijkheid tot een ander paspoort. Vervolgens ben je ineens een heel nieuw mens; je komt weer naar Nederland en je kunt weer van allerlei voorzieningen gebruikmaken. Net als bij de Bulgarenfraude is Nederland de pinpas geworden van Europa. Dat kan niet waar zijn. Wij hebben dit helaas moeten horen via RTL. Maar wat nog veel erger is, is dat dit kabinet het ook heeft gehoord via RTL. Blijkbaar was er in april al een rapport waarop niet is gereageerd. Hoe kan dat? Het CDA wil dat de minister heel erg rap aan de slag gaat met de aanbevelingen die daarin staan. Die aanbevelingen gaan bijvoorbeeld over het registreren van persoonsnummers. Ik heb nagevraagd bij gemeenteambtenaren of zij een bericht hebben gekregen van het feit dat dit probleem speelt, maar ook zij hoorden het van RTL. Zij hebben dus geen instructie gekregen om dit op te lossen. Er moet dan ook rap wat gebeuren, want wij zijn niet de pinpas van Europa! --> Text length need to be between 0 and 5000 characters",
     "output_type": "error",
     "traceback": [
      "\u001b[0;31m---------------------------------------------------------------------------\u001b[0m",
      "\u001b[0;31mNotValidLength\u001b[0m                            Traceback (most recent call last)",
      "Cell \u001b[0;32mIn[7], line 2\u001b[0m\n\u001b[1;32m      1\u001b[0m tqdm\u001b[38;5;241m.\u001b[39mpandas()\n\u001b[0;32m----> 2\u001b[0m df[\u001b[38;5;124m'\u001b[39m\u001b[38;5;124mspeech_text_google_translate\u001b[39m\u001b[38;5;124m'\u001b[39m] \u001b[38;5;241m=\u001b[39m \u001b[43mdf\u001b[49m\u001b[43m[\u001b[49m\u001b[38;5;124;43m'\u001b[39;49m\u001b[38;5;124;43mspeech_text\u001b[39;49m\u001b[38;5;124;43m'\u001b[39;49m\u001b[43m]\u001b[49m\u001b[38;5;241;43m.\u001b[39;49m\u001b[43mprogress_apply\u001b[49m\u001b[43m(\u001b[49m\u001b[43mtranslate\u001b[49m\u001b[43m)\u001b[49m\n",
      "File \u001b[0;32m/nix/store/sh094n28rfgflr5agd3j4rshy9rdsa5j-python3.12-tqdm-4.67.1/lib/python3.12/site-packages/tqdm/std.py:917\u001b[0m, in \u001b[0;36mtqdm.pandas.<locals>.inner_generator.<locals>.inner\u001b[0;34m(df, func, *args, **kwargs)\u001b[0m\n\u001b[1;32m    914\u001b[0m \u001b[38;5;66;03m# Apply the provided function (in **kwargs)\u001b[39;00m\n\u001b[1;32m    915\u001b[0m \u001b[38;5;66;03m# on the df using our wrapper (which provides bar updating)\u001b[39;00m\n\u001b[1;32m    916\u001b[0m \u001b[38;5;28;01mtry\u001b[39;00m:\n\u001b[0;32m--> 917\u001b[0m     \u001b[38;5;28;01mreturn\u001b[39;00m \u001b[38;5;28;43mgetattr\u001b[39;49m\u001b[43m(\u001b[49m\u001b[43mdf\u001b[49m\u001b[43m,\u001b[49m\u001b[43m \u001b[49m\u001b[43mdf_function\u001b[49m\u001b[43m)\u001b[49m\u001b[43m(\u001b[49m\u001b[43mwrapper\u001b[49m\u001b[43m,\u001b[49m\u001b[43m \u001b[49m\u001b[38;5;241;43m*\u001b[39;49m\u001b[38;5;241;43m*\u001b[39;49m\u001b[43mkwargs\u001b[49m\u001b[43m)\u001b[49m\n\u001b[1;32m    918\u001b[0m \u001b[38;5;28;01mfinally\u001b[39;00m:\n\u001b[1;32m    919\u001b[0m     t\u001b[38;5;241m.\u001b[39mclose()\n",
      "File \u001b[0;32m/nix/store/a28bdjs5gfxixngxi3m3bicpj70z9sa9-python3.12-pandas-2.2.3/lib/python3.12/site-packages/pandas/core/series.py:4924\u001b[0m, in \u001b[0;36mSeries.apply\u001b[0;34m(self, func, convert_dtype, args, by_row, **kwargs)\u001b[0m\n\u001b[1;32m   4789\u001b[0m \u001b[38;5;28;01mdef\u001b[39;00m\u001b[38;5;250m \u001b[39m\u001b[38;5;21mapply\u001b[39m(\n\u001b[1;32m   4790\u001b[0m     \u001b[38;5;28mself\u001b[39m,\n\u001b[1;32m   4791\u001b[0m     func: AggFuncType,\n\u001b[0;32m   (...)\u001b[0m\n\u001b[1;32m   4796\u001b[0m     \u001b[38;5;241m*\u001b[39m\u001b[38;5;241m*\u001b[39mkwargs,\n\u001b[1;32m   4797\u001b[0m ) \u001b[38;5;241m-\u001b[39m\u001b[38;5;241m>\u001b[39m DataFrame \u001b[38;5;241m|\u001b[39m Series:\n\u001b[1;32m   4798\u001b[0m \u001b[38;5;250m    \u001b[39m\u001b[38;5;124;03m\"\"\"\u001b[39;00m\n\u001b[1;32m   4799\u001b[0m \u001b[38;5;124;03m    Invoke function on values of Series.\u001b[39;00m\n\u001b[1;32m   4800\u001b[0m \n\u001b[0;32m   (...)\u001b[0m\n\u001b[1;32m   4915\u001b[0m \u001b[38;5;124;03m    dtype: float64\u001b[39;00m\n\u001b[1;32m   4916\u001b[0m \u001b[38;5;124;03m    \"\"\"\u001b[39;00m\n\u001b[1;32m   4917\u001b[0m     \u001b[38;5;28;01mreturn\u001b[39;00m \u001b[43mSeriesApply\u001b[49m\u001b[43m(\u001b[49m\n\u001b[1;32m   4918\u001b[0m \u001b[43m        \u001b[49m\u001b[38;5;28;43mself\u001b[39;49m\u001b[43m,\u001b[49m\n\u001b[1;32m   4919\u001b[0m \u001b[43m        \u001b[49m\u001b[43mfunc\u001b[49m\u001b[43m,\u001b[49m\n\u001b[1;32m   4920\u001b[0m \u001b[43m        \u001b[49m\u001b[43mconvert_dtype\u001b[49m\u001b[38;5;241;43m=\u001b[39;49m\u001b[43mconvert_dtype\u001b[49m\u001b[43m,\u001b[49m\n\u001b[1;32m   4921\u001b[0m \u001b[43m        \u001b[49m\u001b[43mby_row\u001b[49m\u001b[38;5;241;43m=\u001b[39;49m\u001b[43mby_row\u001b[49m\u001b[43m,\u001b[49m\n\u001b[1;32m   4922\u001b[0m \u001b[43m        \u001b[49m\u001b[43margs\u001b[49m\u001b[38;5;241;43m=\u001b[39;49m\u001b[43margs\u001b[49m\u001b[43m,\u001b[49m\n\u001b[1;32m   4923\u001b[0m \u001b[43m        \u001b[49m\u001b[43mkwargs\u001b[49m\u001b[38;5;241;43m=\u001b[39;49m\u001b[43mkwargs\u001b[49m\u001b[43m,\u001b[49m\n\u001b[0;32m-> 4924\u001b[0m \u001b[43m    \u001b[49m\u001b[43m)\u001b[49m\u001b[38;5;241;43m.\u001b[39;49m\u001b[43mapply\u001b[49m\u001b[43m(\u001b[49m\u001b[43m)\u001b[49m\n",
      "File \u001b[0;32m/nix/store/a28bdjs5gfxixngxi3m3bicpj70z9sa9-python3.12-pandas-2.2.3/lib/python3.12/site-packages/pandas/core/apply.py:1427\u001b[0m, in \u001b[0;36mSeriesApply.apply\u001b[0;34m(self)\u001b[0m\n\u001b[1;32m   1424\u001b[0m     \u001b[38;5;28;01mreturn\u001b[39;00m \u001b[38;5;28mself\u001b[39m\u001b[38;5;241m.\u001b[39mapply_compat()\n\u001b[1;32m   1426\u001b[0m \u001b[38;5;66;03m# self.func is Callable\u001b[39;00m\n\u001b[0;32m-> 1427\u001b[0m \u001b[38;5;28;01mreturn\u001b[39;00m \u001b[38;5;28;43mself\u001b[39;49m\u001b[38;5;241;43m.\u001b[39;49m\u001b[43mapply_standard\u001b[49m\u001b[43m(\u001b[49m\u001b[43m)\u001b[49m\n",
      "File \u001b[0;32m/nix/store/a28bdjs5gfxixngxi3m3bicpj70z9sa9-python3.12-pandas-2.2.3/lib/python3.12/site-packages/pandas/core/apply.py:1507\u001b[0m, in \u001b[0;36mSeriesApply.apply_standard\u001b[0;34m(self)\u001b[0m\n\u001b[1;32m   1501\u001b[0m \u001b[38;5;66;03m# row-wise access\u001b[39;00m\n\u001b[1;32m   1502\u001b[0m \u001b[38;5;66;03m# apply doesn't have a `na_action` keyword and for backward compat reasons\u001b[39;00m\n\u001b[1;32m   1503\u001b[0m \u001b[38;5;66;03m# we need to give `na_action=\"ignore\"` for categorical data.\u001b[39;00m\n\u001b[1;32m   1504\u001b[0m \u001b[38;5;66;03m# TODO: remove the `na_action=\"ignore\"` when that default has been changed in\u001b[39;00m\n\u001b[1;32m   1505\u001b[0m \u001b[38;5;66;03m#  Categorical (GH51645).\u001b[39;00m\n\u001b[1;32m   1506\u001b[0m action \u001b[38;5;241m=\u001b[39m \u001b[38;5;124m\"\u001b[39m\u001b[38;5;124mignore\u001b[39m\u001b[38;5;124m\"\u001b[39m \u001b[38;5;28;01mif\u001b[39;00m \u001b[38;5;28misinstance\u001b[39m(obj\u001b[38;5;241m.\u001b[39mdtype, CategoricalDtype) \u001b[38;5;28;01melse\u001b[39;00m \u001b[38;5;28;01mNone\u001b[39;00m\n\u001b[0;32m-> 1507\u001b[0m mapped \u001b[38;5;241m=\u001b[39m \u001b[43mobj\u001b[49m\u001b[38;5;241;43m.\u001b[39;49m\u001b[43m_map_values\u001b[49m\u001b[43m(\u001b[49m\n\u001b[1;32m   1508\u001b[0m \u001b[43m    \u001b[49m\u001b[43mmapper\u001b[49m\u001b[38;5;241;43m=\u001b[39;49m\u001b[43mcurried\u001b[49m\u001b[43m,\u001b[49m\u001b[43m \u001b[49m\u001b[43mna_action\u001b[49m\u001b[38;5;241;43m=\u001b[39;49m\u001b[43maction\u001b[49m\u001b[43m,\u001b[49m\u001b[43m \u001b[49m\u001b[43mconvert\u001b[49m\u001b[38;5;241;43m=\u001b[39;49m\u001b[38;5;28;43mself\u001b[39;49m\u001b[38;5;241;43m.\u001b[39;49m\u001b[43mconvert_dtype\u001b[49m\n\u001b[1;32m   1509\u001b[0m \u001b[43m\u001b[49m\u001b[43m)\u001b[49m\n\u001b[1;32m   1511\u001b[0m \u001b[38;5;28;01mif\u001b[39;00m \u001b[38;5;28mlen\u001b[39m(mapped) \u001b[38;5;129;01mand\u001b[39;00m \u001b[38;5;28misinstance\u001b[39m(mapped[\u001b[38;5;241m0\u001b[39m], ABCSeries):\n\u001b[1;32m   1512\u001b[0m     \u001b[38;5;66;03m# GH#43986 Need to do list(mapped) in order to get treated as nested\u001b[39;00m\n\u001b[1;32m   1513\u001b[0m     \u001b[38;5;66;03m#  See also GH#25959 regarding EA support\u001b[39;00m\n\u001b[1;32m   1514\u001b[0m     \u001b[38;5;28;01mreturn\u001b[39;00m obj\u001b[38;5;241m.\u001b[39m_constructor_expanddim(\u001b[38;5;28mlist\u001b[39m(mapped), index\u001b[38;5;241m=\u001b[39mobj\u001b[38;5;241m.\u001b[39mindex)\n",
      "File \u001b[0;32m/nix/store/a28bdjs5gfxixngxi3m3bicpj70z9sa9-python3.12-pandas-2.2.3/lib/python3.12/site-packages/pandas/core/base.py:921\u001b[0m, in \u001b[0;36mIndexOpsMixin._map_values\u001b[0;34m(self, mapper, na_action, convert)\u001b[0m\n\u001b[1;32m    918\u001b[0m \u001b[38;5;28;01mif\u001b[39;00m \u001b[38;5;28misinstance\u001b[39m(arr, ExtensionArray):\n\u001b[1;32m    919\u001b[0m     \u001b[38;5;28;01mreturn\u001b[39;00m arr\u001b[38;5;241m.\u001b[39mmap(mapper, na_action\u001b[38;5;241m=\u001b[39mna_action)\n\u001b[0;32m--> 921\u001b[0m \u001b[38;5;28;01mreturn\u001b[39;00m \u001b[43malgorithms\u001b[49m\u001b[38;5;241;43m.\u001b[39;49m\u001b[43mmap_array\u001b[49m\u001b[43m(\u001b[49m\u001b[43marr\u001b[49m\u001b[43m,\u001b[49m\u001b[43m \u001b[49m\u001b[43mmapper\u001b[49m\u001b[43m,\u001b[49m\u001b[43m \u001b[49m\u001b[43mna_action\u001b[49m\u001b[38;5;241;43m=\u001b[39;49m\u001b[43mna_action\u001b[49m\u001b[43m,\u001b[49m\u001b[43m \u001b[49m\u001b[43mconvert\u001b[49m\u001b[38;5;241;43m=\u001b[39;49m\u001b[43mconvert\u001b[49m\u001b[43m)\u001b[49m\n",
      "File \u001b[0;32m/nix/store/a28bdjs5gfxixngxi3m3bicpj70z9sa9-python3.12-pandas-2.2.3/lib/python3.12/site-packages/pandas/core/algorithms.py:1743\u001b[0m, in \u001b[0;36mmap_array\u001b[0;34m(arr, mapper, na_action, convert)\u001b[0m\n\u001b[1;32m   1741\u001b[0m values \u001b[38;5;241m=\u001b[39m arr\u001b[38;5;241m.\u001b[39mastype(\u001b[38;5;28mobject\u001b[39m, copy\u001b[38;5;241m=\u001b[39m\u001b[38;5;28;01mFalse\u001b[39;00m)\n\u001b[1;32m   1742\u001b[0m \u001b[38;5;28;01mif\u001b[39;00m na_action \u001b[38;5;129;01mis\u001b[39;00m \u001b[38;5;28;01mNone\u001b[39;00m:\n\u001b[0;32m-> 1743\u001b[0m     \u001b[38;5;28;01mreturn\u001b[39;00m \u001b[43mlib\u001b[49m\u001b[38;5;241;43m.\u001b[39;49m\u001b[43mmap_infer\u001b[49m\u001b[43m(\u001b[49m\u001b[43mvalues\u001b[49m\u001b[43m,\u001b[49m\u001b[43m \u001b[49m\u001b[43mmapper\u001b[49m\u001b[43m,\u001b[49m\u001b[43m \u001b[49m\u001b[43mconvert\u001b[49m\u001b[38;5;241;43m=\u001b[39;49m\u001b[43mconvert\u001b[49m\u001b[43m)\u001b[49m\n\u001b[1;32m   1744\u001b[0m \u001b[38;5;28;01melse\u001b[39;00m:\n\u001b[1;32m   1745\u001b[0m     \u001b[38;5;28;01mreturn\u001b[39;00m lib\u001b[38;5;241m.\u001b[39mmap_infer_mask(\n\u001b[1;32m   1746\u001b[0m         values, mapper, mask\u001b[38;5;241m=\u001b[39misna(values)\u001b[38;5;241m.\u001b[39mview(np\u001b[38;5;241m.\u001b[39muint8), convert\u001b[38;5;241m=\u001b[39mconvert\n\u001b[1;32m   1747\u001b[0m     )\n",
      "File \u001b[0;32mlib.pyx:2972\u001b[0m, in \u001b[0;36mpandas._libs.lib.map_infer\u001b[0;34m()\u001b[0m\n",
      "File \u001b[0;32m/nix/store/sh094n28rfgflr5agd3j4rshy9rdsa5j-python3.12-tqdm-4.67.1/lib/python3.12/site-packages/tqdm/std.py:912\u001b[0m, in \u001b[0;36mtqdm.pandas.<locals>.inner_generator.<locals>.inner.<locals>.wrapper\u001b[0;34m(*args, **kwargs)\u001b[0m\n\u001b[1;32m    906\u001b[0m \u001b[38;5;28;01mdef\u001b[39;00m\u001b[38;5;250m \u001b[39m\u001b[38;5;21mwrapper\u001b[39m(\u001b[38;5;241m*\u001b[39margs, \u001b[38;5;241m*\u001b[39m\u001b[38;5;241m*\u001b[39mkwargs):\n\u001b[1;32m    907\u001b[0m     \u001b[38;5;66;03m# update tbar correctly\u001b[39;00m\n\u001b[1;32m    908\u001b[0m     \u001b[38;5;66;03m# it seems `pandas apply` calls `func` twice\u001b[39;00m\n\u001b[1;32m    909\u001b[0m     \u001b[38;5;66;03m# on the first column/row to decide whether it can\u001b[39;00m\n\u001b[1;32m    910\u001b[0m     \u001b[38;5;66;03m# take a fast or slow code path; so stop when t.total==t.n\u001b[39;00m\n\u001b[1;32m    911\u001b[0m     t\u001b[38;5;241m.\u001b[39mupdate(n\u001b[38;5;241m=\u001b[39m\u001b[38;5;241m1\u001b[39m \u001b[38;5;28;01mif\u001b[39;00m \u001b[38;5;129;01mnot\u001b[39;00m t\u001b[38;5;241m.\u001b[39mtotal \u001b[38;5;129;01mor\u001b[39;00m t\u001b[38;5;241m.\u001b[39mn \u001b[38;5;241m<\u001b[39m t\u001b[38;5;241m.\u001b[39mtotal \u001b[38;5;28;01melse\u001b[39;00m \u001b[38;5;241m0\u001b[39m)\n\u001b[0;32m--> 912\u001b[0m     \u001b[38;5;28;01mreturn\u001b[39;00m \u001b[43mfunc\u001b[49m\u001b[43m(\u001b[49m\u001b[38;5;241;43m*\u001b[39;49m\u001b[43margs\u001b[49m\u001b[43m,\u001b[49m\u001b[43m \u001b[49m\u001b[38;5;241;43m*\u001b[39;49m\u001b[38;5;241;43m*\u001b[39;49m\u001b[43mkwargs\u001b[49m\u001b[43m)\u001b[49m\n",
      "Cell \u001b[0;32mIn[4], line 2\u001b[0m, in \u001b[0;36mtranslate\u001b[0;34m(text)\u001b[0m\n\u001b[1;32m      1\u001b[0m \u001b[38;5;28;01mdef\u001b[39;00m\u001b[38;5;250m \u001b[39m\u001b[38;5;21mtranslate\u001b[39m(text):\n\u001b[0;32m----> 2\u001b[0m     \u001b[38;5;28;01mreturn\u001b[39;00m \u001b[43mGoogleTranslator\u001b[49m\u001b[43m(\u001b[49m\u001b[43msource\u001b[49m\u001b[38;5;241;43m=\u001b[39;49m\u001b[38;5;124;43m'\u001b[39;49m\u001b[38;5;124;43mauto\u001b[39;49m\u001b[38;5;124;43m'\u001b[39;49m\u001b[43m,\u001b[49m\u001b[43m \u001b[49m\u001b[43mtarget\u001b[49m\u001b[38;5;241;43m=\u001b[39;49m\u001b[38;5;124;43m'\u001b[39;49m\u001b[38;5;124;43men\u001b[39;49m\u001b[38;5;124;43m'\u001b[39;49m\u001b[43m)\u001b[49m\u001b[38;5;241;43m.\u001b[39;49m\u001b[43mtranslate\u001b[49m\u001b[43m(\u001b[49m\u001b[43mtext\u001b[49m\u001b[43m)\u001b[49m\n",
      "File \u001b[0;32m/nix/store/r1m33rvdv8976fag3qjvlvsj67807z8n-python3.12-deep-translator-1.11.4/lib/python3.12/site-packages/deep_translator/google.py:57\u001b[0m, in \u001b[0;36mGoogleTranslator.translate\u001b[0;34m(self, text, **kwargs)\u001b[0m\n\u001b[1;32m     51\u001b[0m \u001b[38;5;28;01mdef\u001b[39;00m\u001b[38;5;250m \u001b[39m\u001b[38;5;21mtranslate\u001b[39m(\u001b[38;5;28mself\u001b[39m, text: \u001b[38;5;28mstr\u001b[39m, \u001b[38;5;241m*\u001b[39m\u001b[38;5;241m*\u001b[39mkwargs) \u001b[38;5;241m-\u001b[39m\u001b[38;5;241m>\u001b[39m \u001b[38;5;28mstr\u001b[39m:\n\u001b[1;32m     52\u001b[0m \u001b[38;5;250m    \u001b[39m\u001b[38;5;124;03m\"\"\"\u001b[39;00m\n\u001b[1;32m     53\u001b[0m \u001b[38;5;124;03m    function to translate a text\u001b[39;00m\n\u001b[1;32m     54\u001b[0m \u001b[38;5;124;03m    @param text: desired text to translate\u001b[39;00m\n\u001b[1;32m     55\u001b[0m \u001b[38;5;124;03m    @return: str: translated text\u001b[39;00m\n\u001b[1;32m     56\u001b[0m \u001b[38;5;124;03m    \"\"\"\u001b[39;00m\n\u001b[0;32m---> 57\u001b[0m     \u001b[38;5;28;01mif\u001b[39;00m \u001b[43mis_input_valid\u001b[49m\u001b[43m(\u001b[49m\u001b[43mtext\u001b[49m\u001b[43m,\u001b[49m\u001b[43m \u001b[49m\u001b[43mmax_chars\u001b[49m\u001b[38;5;241;43m=\u001b[39;49m\u001b[38;5;241;43m5000\u001b[39;49m\u001b[43m)\u001b[49m:\n\u001b[1;32m     58\u001b[0m         text \u001b[38;5;241m=\u001b[39m text\u001b[38;5;241m.\u001b[39mstrip()\n\u001b[1;32m     59\u001b[0m         \u001b[38;5;28;01mif\u001b[39;00m \u001b[38;5;28mself\u001b[39m\u001b[38;5;241m.\u001b[39m_same_source_target() \u001b[38;5;129;01mor\u001b[39;00m is_empty(text):\n",
      "File \u001b[0;32m/nix/store/r1m33rvdv8976fag3qjvlvsj67807z8n-python3.12-deep-translator-1.11.4/lib/python3.12/site-packages/deep_translator/validate.py:41\u001b[0m, in \u001b[0;36mis_input_valid\u001b[0;34m(text, min_chars, max_chars)\u001b[0m\n\u001b[1;32m     39\u001b[0m     \u001b[38;5;28;01mraise\u001b[39;00m NotValidPayload(text)\n\u001b[1;32m     40\u001b[0m \u001b[38;5;28;01mif\u001b[39;00m max_chars \u001b[38;5;129;01mand\u001b[39;00m (\u001b[38;5;129;01mnot\u001b[39;00m min_chars \u001b[38;5;241m<\u001b[39m\u001b[38;5;241m=\u001b[39m \u001b[38;5;28mlen\u001b[39m(text) \u001b[38;5;241m<\u001b[39m max_chars):\n\u001b[0;32m---> 41\u001b[0m     \u001b[38;5;28;01mraise\u001b[39;00m NotValidLength(text, min_chars, max_chars)\n\u001b[1;32m     43\u001b[0m \u001b[38;5;28;01mreturn\u001b[39;00m \u001b[38;5;28;01mTrue\u001b[39;00m\n",
      "\u001b[0;31mNotValidLength\u001b[0m: Voorzitter. Wat het CDA betreft, bespreken wij vandaag drie onderwerpen: de stelselverantwoordelijkheid van deze minister voor de verschillende decentralisaties, de AIVD en de problematiek met de identiteitswissels in Oost-Europa.\nOver de decentralisaties heeft het CDA nog altijd heel grote zorgen. En laat me duidelijk zijn: die zorgen nemen eerder toe dan af. Wij horen de staatssecretaris van VWS iedere keer weer de bezweringsformule uitspreken dat het allemaal wel goed komt. Nog erger is het dat hij in de provincies en in de diverse gemeenten allerlei toezeggingen doet waar we geen verzilvering van zien. Dat is heel ernstig. Deze minister moet namelijk ook weten dat het piept en kraakt in Nederland bij die taakverschuiving naar de gemeenten. Ondanks de brief die wij hebben gekregen, zien wij de stelselverantwoordelijkheid van deze minister op dit moment geen goede vorm krijgen. Ik geef een paar voorbeelden. Kijk naar de jeugdzorg, waarover we hadden afgesproken dat daarvoor vóór 1 november contracten zouden zijn gesloten. Dat is dus niet gelukt. De deadline is verschoven. Dit is niet alleen maar een organisatorisch dingetje. Er zijn daadwerkelijk ouders — en die hebben zich ook tot mij gewend — die zeggen: mijn zorginstelling kan niet meer toezeggen dat ik die zorg straks krijg, want ze weet niet hoeveel geld ze krijgt en ze weet niet of ze nog zal worden gecontracteerd. In Eindhoven is er een Europese aanbesteding. Hoe bizar kan het worden? De gemeente zegt vervolgens dat ze het wel probeert goed te krijgen, maar uiteindelijk is er van alles aan de hand. Wij willen dat de minister acteert om deze zorgen weg te nemen.\nEr is die vergeten groep. Het gaat om meer dan 300 miljoen euro. De staatssecretaris van VWS zegt dat we dat wel in de middelen zullen oplossen, maar wij zien daar nog geen plannen voor. Die willen wij krijgen van deze minister. De staatssecretaris van VWS is naar Zeeland gegaan. Hij heeft daar gezegd dat hij ook wel ziet dat het volume waarmee wordt gerekend, eigenlijk te weinig behelst, dat er dus wat bij moet en dat dit zal worden goedgemaakt. Maar als mijn collega Mona Keijzer daar in een motie om vraagt — het gaat immers direct om het Gemeentefonds — dan is zoiets ineens een motie die eng is, en wordt deze door de staatssecretaris ontraden. Wij willen dat deze minister, die verantwoordelijk is voor het totale stelsel, acteert. Het gaat namelijk niet goed.\nEen ander punt, naast die decentralisaties, zijn de \"congruente samenwerkingsverbanden\", zoals de minister ze altijd terecht noemt. Wij hebben al eerder gezegd dat wij de andere samenwerkingsverbanden zien. De veiligheidsregio's zijn anders dan de arbeidsmarktregio's, en ze zijn weer anders dan de regio's voor passend onderwijs. Het kan soms nog, maar nu wordt in de jeugd-GGZ een nieuw samenwerkingsverband opgelegd, die niet past bij de samenwerking die is opgelegd ten aanzien van passend onderwijs. Wij spreken de minister aan op de congruentie in die samenwerkingsverbanden. Wat gaat hij daarmee doen?\nWij zien dat de gemeenten op dit moment echt gebukt gaan onder het organiseren van die taken. Wij zien dat ze eigenlijk geen ruimte meer hebben om te kijken naar de andere taken die ze hebben, bijvoorbeeld op het gebied van de ruimtelijke ordening en de agenda daarvoor. We lezen dat de infrastructuur in de gemeenten een beetje in elkaar zakt en dat het onderhoud van wegen op allerlei plekken echt tekortschiet. Niemand heeft daar nog een focus op, niemand heeft daar meer geld voor. Wij vinden dat een zorgpunt en willen dat de minister daar, met de VNG, aandacht aan besteedt.\nWij hebben ook een zorgpunt over de samenwerking binnen de steden; het speerpunt. De heer Van Oosten heeft daar al vragen over gesteld, en daar sluit ik mij bij aan. Hetzelfde geldt voor de BAG. Wij hebben in het algemeen overleg van de minister de toezegging gekregen dat er voor de kazernegemeenten een oplossing zou komen. Deze dreigt echter niet in de decembercirculaire te worden vormgegeven. Dat willen wij wél.\nNu de grensgemeenten in Nederland. Ook al is het een kikkerlandje, Nederland heeft heel veel grensgemeenten. Met name daar zien we op dit moment grote problemen. In die grensgemeenten liggen eigenlijk kansen, die niet worden benut. Sterker nog: daar komen heel grote knelpunten. Er gaan steeds meer taken naar de gemeenten, ook met betrekking tot het arbeidsmarktbeleid en in de zorg. De grensgemeenten kunnen eigenlijk geen kant op. Ze kunnen dingen eigenlijk maar naar één kant organiseren, terwijl dit zou moeten kunnen in een kring eromheen. Wij willen dat de minister van Binnenlandse Zaken ook op dit dossier gaat acteren. Dan kom ik bij het Gemeentefonds. De minister heeft op enig moment gezegd dat wij eigenlijk met een schone lei moeten beginnen: dit is het geld waar gemeenten het straks mee moeten doen en vervolgens zal het allemaal wel goed komen. En als de gemeenten echt met de rug tegen de muur zouden komen te staan, zou de gemeentelijke belasting niet erg omhoog mogen gaan om dat op te lossen. Tegelijkertijd horen wij dat de overschrijdingen van de normen in 2013 en 2014 gewoon worden vergeven en vergeten. Wij horen ook dat gemeenten op dit moment daadwerkelijk kijken hoe zij de gemeentelijke belastingen kunnen opvoeren, omdat ze de taken voor hun burgers met het geld dat zij daarvoor krijgen, niet kunnen uitvoeren. Wij willen dat het kabinet daarop acteert. Het kan niet zo zijn dat wij in Den Haag roepen te moeten bezuinigen en lokale belastingen omhooggaan waardoor de burgers nog steeds moeten blijven betalen. Wij horen ook gemeenten die zeggen: dan worden wij maar een artikel 12-gemeente; het is niet anders. Dat kan toch ook niet waar zijn? Wat gaat de minister daaraan doen?\nIk kom bij het volgende onderwerp, de AIVD. Eind juni liet de minister een persbericht uitgaan waarin hij aangaf 25 miljoen extra te zullen uittrekken voor de AIVD, alsook het budget structureel te zullen verhogen. Gelukkig prikte de media daar direct doorheen, want de minister doet niets anders dan het verzachten van de bezuinigingen. Hij draait daarmee een stukje van de bezuinigingen terug, maar niet de versobering. Wij hebben inmiddels begrepen dat van de politie capaciteit wordt geleend om AIVD-taken te doen. Het kan niet zo zijn dat dit gebeurt? De politie kan nu al bijna niet aan haar taken toekomen, zoals in Brabant met de xtc-laboratoria. Het water staat de politie tot aan de lippen en vervolgens moeten er nog mensen worden uitgeleend aan de AIVD omdat deze dienst niet voldoende capaciteit heeft. In deze tijd willen wij een AIVD op oorlogssterkte, maar de minister biedt die niet. Wij hebben daarover bij de tegenbegroting al plannen ontvouwd. Bij de begroting van Veiligheid en Justitie hebben wij een vrij omvangrijk amendement ingediend om er serieus voor te zorgen dat de AIVD meer geld krijgt. Wij hebben deze minister hier eerder op aangesproken en hem gevraagd of de AIVD nu echt genoeg geld krijgt. Toen zei de minister nog ja, maar inmiddels weten wij dat dit niet zo is, aangezien de AIVD mensen leent bij andere organisaties die ook niet veel ruimte meer hebben.\nTot slot kom ik bij de ID-problematiek. Blijkbaar bieden Oost-Europese landen hun burgers heel gemakkelijk de mogelijkheid tot een ander paspoort. Vervolgens ben je ineens een heel nieuw mens; je komt weer naar Nederland en je kunt weer van allerlei voorzieningen gebruikmaken. Net als bij de Bulgarenfraude is Nederland de pinpas geworden van Europa. Dat kan niet waar zijn. Wij hebben dit helaas moeten horen via RTL. Maar wat nog veel erger is, is dat dit kabinet het ook heeft gehoord via RTL. Blijkbaar was er in april al een rapport waarop niet is gereageerd. Hoe kan dat? Het CDA wil dat de minister heel erg rap aan de slag gaat met de aanbevelingen die daarin staan. Die aanbevelingen gaan bijvoorbeeld over het registreren van persoonsnummers. Ik heb nagevraagd bij gemeenteambtenaren of zij een bericht hebben gekregen van het feit dat dit probleem speelt, maar ook zij hoorden het van RTL. Zij hebben dus geen instructie gekregen om dit op te lossen. Er moet dan ook rap wat gebeuren, want wij zijn niet de pinpas van Europa! --> Text length need to be between 0 and 5000 characters"
     ]
    }
   ],
   "source": [
    "tqdm.pandas()\n",
    "df['speech_text_google_translate'] = df['speech_text'].progress_apply(translate)"
   ]
  },
  {
   "cell_type": "code",
   "execution_count": null,
   "id": "6703205a-85c7-4605-9063-7f7e511e6f9f",
   "metadata": {},
   "outputs": [],
   "source": [
    "display(df.head())"
   ]
  },
  {
   "cell_type": "code",
   "execution_count": null,
   "id": "8e21d97b-57c6-4c7e-ab56-2a6497f3ab14",
   "metadata": {},
   "outputs": [],
   "source": []
  }
 ],
 "metadata": {
  "kernelspec": {
   "display_name": "Python 3 (ipykernel)",
   "language": "python",
   "name": "python3"
  },
  "language_info": {
   "codemirror_mode": {
    "name": "ipython",
    "version": 3
   },
   "file_extension": ".py",
   "mimetype": "text/x-python",
   "name": "python",
   "nbconvert_exporter": "python",
   "pygments_lexer": "ipython3",
   "version": "3.12.8"
  }
 },
 "nbformat": 4,
 "nbformat_minor": 5
}
